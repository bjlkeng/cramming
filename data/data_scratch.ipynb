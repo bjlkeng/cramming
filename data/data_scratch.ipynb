{
 "cells": [
  {
   "cell_type": "code",
   "execution_count": 3,
   "metadata": {},
   "outputs": [],
   "source": [
    "import numpy as np\n",
    "import torch\n",
    "from sentence_transformers import SentenceTransformer\n",
    "\n",
    "from torch import optim, nn, utils, Tensor\n",
    "from torchmetrics.classification import BinaryAccuracy\n",
    "import pytorch_lightning as pl\n",
    "from transformers import AutoTokenizer\n",
    "from pytorch_lightning import LightningDataModule\n",
    "\n",
    "from datetime import datetime\n",
    "from typing import Optional\n",
    "\n",
    "import datasets\n",
    "from pytorch_lightning import LightningDataModule, LightningModule, Trainer, seed_everything\n",
    "from torch.utils.data import DataLoader"
   ]
  },
  {
   "cell_type": "code",
   "execution_count": 4,
   "metadata": {},
   "outputs": [
    {
     "name": "stdout",
     "output_type": "stream",
     "text": [
      "Cuda available: True\n",
      "Current device: 0\n",
      "Device: cuda:0\n",
      "Device count: 1\n",
      "Device name: NVIDIA GeForce RTX 3090\n"
     ]
    }
   ],
   "source": [
    "available = torch.cuda.is_available()\n",
    "curr_device = torch.cuda.current_device()\n",
    "device = torch.device(\"cuda:0\" if available else \"cpu\") \n",
    "device_count = torch.cuda.device_count() \n",
    "device_name =  torch.cuda.get_device_name(0)\n",
    "\n",
    "print(f'Cuda available: {available}')\n",
    "print(f'Current device: {curr_device}')\n",
    "print(f'Device: {device}')\n",
    "print(f'Device count: {device_count}')\n",
    "print(f'Device name: {device_name}')\n"
   ]
  },
  {
   "cell_type": "code",
   "execution_count": 5,
   "metadata": {},
   "outputs": [
    {
     "data": {
      "text/plain": [
       "{'unk_token': '[UNK]',\n",
       " 'sep_token': '[SEP]',\n",
       " 'pad_token': '[PAD]',\n",
       " 'cls_token': '[CLS]',\n",
       " 'mask_token': '[MASK]'}"
      ]
     },
     "execution_count": 5,
     "metadata": {},
     "output_type": "execute_result"
    }
   ],
   "source": [
    "tokenizer = AutoTokenizer.from_pretrained('bert-base-uncased')\n",
    "# returns {'unk_token': '[UNK]', 'sep_token': '[SEP]', 'pad_token': '[PAD]', 'cls_token': '[CLS]', 'mask_token': '[MASK]'}\n",
    "tokenizer.special_tokens_map"
   ]
  },
  {
   "cell_type": "code",
   "execution_count": 6,
   "metadata": {},
   "outputs": [
    {
     "data": {
      "text/plain": [
       "{'input_ids': [[101, 2023, 2003, 1037, 2200, 2146, 6251, 2008, 10047, 102], [101, 3015, 2085, 102, 102, 0, 0, 0, 0, 0]], 'attention_mask': [[1, 1, 1, 1, 1, 1, 1, 1, 1, 1], [1, 1, 1, 1, 1, 0, 0, 0, 0, 0]], 'length': [10, 10], 'overflow_to_sample_mapping': [0, 0]}"
      ]
     },
     "execution_count": 6,
     "metadata": {},
     "output_type": "execute_result"
    }
   ],
   "source": [
    "tokenizer.encode_plus('This is a very long sentence that Im writing now[SEP]', \n",
    "                      add_special_tokens=True,\n",
    "                      padding='max_length',\n",
    "                      truncation=True,\n",
    "                      max_length=10,\n",
    "                      return_token_type_ids=False,\n",
    "                      return_overflowing_tokens=True,\n",
    "                      return_length=True,\n",
    "                      )"
   ]
  },
  {
   "cell_type": "code",
   "execution_count": 7,
   "metadata": {},
   "outputs": [
    {
     "name": "stderr",
     "output_type": "stream",
     "text": [
      "/tmp/ipykernel_13709/3321853083.py:4: UserWarning: Implicit dimension choice for softmax has been deprecated. Change the call to include dim=X as an argument.\n",
      "  nn.functional.softmax(c)\n"
     ]
    },
    {
     "data": {
      "text/plain": [
       "tensor([0.5000, 0.5000, 0.0000, 0.0000])"
      ]
     },
     "execution_count": 7,
     "metadata": {},
     "output_type": "execute_result"
    }
   ],
   "source": [
    "a = torch.Tensor([0.25, 0.25, 0.25, 0.25])\n",
    "b = (1.0 - torch.Tensor([1, 1, 0, 0])) * -10000\n",
    "c = a + b\n",
    "nn.functional.softmax(c)"
   ]
  },
  {
   "cell_type": "code",
   "execution_count": 8,
   "metadata": {},
   "outputs": [],
   "source": [
    "import json\n",
    "\n",
    "#wikifile = '/home/bjlkeng/devel/cramming/data/wikipedia/wikipedia-en-0.json'\n",
    "#\n",
    "#with open(wikifile, 'r') as f:\n",
    "#  data = json.load(f)"
   ]
  },
  {
   "cell_type": "code",
   "execution_count": 9,
   "metadata": {},
   "outputs": [],
   "source": [
    "#dir(data[0])"
   ]
  },
  {
   "cell_type": "code",
   "execution_count": 8,
   "metadata": {},
   "outputs": [
    {
     "name": "stderr",
     "output_type": "stream",
     "text": [
      "Resolving data files: 100%|██████████| 255412/255412 [00:11<00:00, 22534.91it/s] \n"
     ]
    }
   ],
   "source": [
    "from datasets import load_dataset\n",
    "\n",
    "#filelist = '/home/bjlkeng/devel/cramming/data/files.csv'\n",
    "#with open(filelist, \"r\") as f:\n",
    "#    files = [prefix + fname.strip() for fname in f.readlines()]\n",
    "\n",
    "files = [\n",
    "'/home/bjlkeng/devel/cramming/data/data/pg19_train/*',\n",
    "'/home/bjlkeng/devel/cramming/data/data/wikipedia/flat/*',\n",
    "'/home/bjlkeng/devel/cramming/data/data/books3/books3/the-eye.eu/public/Books/Bibliotik/**',\n",
    "]\n",
    "dataset = load_dataset('text', data_files=files, sample_by='document', \n",
    "                       split='train', streaming=True)\n",
    "#except Exception as e:\n",
    "#    print(e, '\\n', i, files[i*batch:(i+1)*batch])"
   ]
  },
  {
   "cell_type": "code",
   "execution_count": 9,
   "metadata": {},
   "outputs": [
    {
     "data": {
      "text/plain": [
       "<datasets.iterable_dataset.IterableDataset at 0x7f3326b0a140>"
      ]
     },
     "execution_count": 9,
     "metadata": {},
     "output_type": "execute_result"
    }
   ],
   "source": [
    "#sum([len(row['text']) for row in dataset])\n",
    "#sum([1 for row in dataset])\n",
    "dataset"
   ]
  },
  {
   "cell_type": "code",
   "execution_count": 10,
   "metadata": {},
   "outputs": [
    {
     "data": {
      "text/plain": [
       "<datasets.iterable_dataset.IterableDataset at 0x7f3326edf190>"
      ]
     },
     "execution_count": 10,
     "metadata": {},
     "output_type": "execute_result"
    }
   ],
   "source": [
    "def tokenize(examples):\n",
    "    input_ids = []\n",
    "    attention_masks = []\n",
    "    for example in examples['text']:\n",
    "        tokens = tokenizer(example,\n",
    "                           add_special_tokens=True,\n",
    "                           padding='max_length',\n",
    "                           truncation=True,\n",
    "                           max_length=10,\n",
    "                           return_token_type_ids=False,\n",
    "                           return_overflowing_tokens=True,)\n",
    "        input_ids += tokens['input_ids']\n",
    "        attention_masks += tokens['attention_mask']\n",
    "    return {'input_ids': input_ids, 'attention_mask': attention_masks}\n",
    "\n",
    "def batch_examples(examples):\n",
    "    return {'input_ids': [examples['input_ids']],\n",
    "            'attention_mask': [examples['attention_mask']]}\n",
    "\n",
    "dataset2 = dataset.map(tokenize, batched=True, remove_columns=['text'], batch_size=1)\n",
    "dataset3 = dataset2.map(batch_examples, batched=True, batch_size=10)\n",
    "dataset3"
   ]
  },
  {
   "cell_type": "code",
   "execution_count": 11,
   "metadata": {},
   "outputs": [
    {
     "name": "stdout",
     "output_type": "stream",
     "text": [
      "A 10\n",
      "dict_keys(['input_ids', 'attention_mask']) 10 10\n",
      "{'input_ids': [[101, 1996, 2214, 9025, 1997, 1996, 2332, 2508, 2544, 102], [101, 1997, 1996, 6331, 1996, 2034, 2338, 1997, 9952, 102], [101, 1024, 2170, 11046, 1015, 1024, 1015, 1999, 1996, 102], [101, 2927, 2643, 2580, 1996, 6014, 1998, 1996, 3011, 102], [101, 1012, 1015, 1024, 1016, 1998, 1996, 3011, 2001, 102], [101, 2302, 2433, 1010, 1998, 11675, 1025, 1998, 4768, 102], [101, 2001, 2588, 1996, 2227, 1997, 1996, 2784, 1012, 102], [101, 1998, 1996, 4382, 1997, 2643, 2333, 2588, 1996, 102], [101, 2227, 1997, 1996, 5380, 1012, 1015, 1024, 1017, 102], [101, 1998, 2643, 2056, 1010, 2292, 2045, 2022, 2422, 102]], 'attention_mask': [[1, 1, 1, 1, 1, 1, 1, 1, 1, 1], [1, 1, 1, 1, 1, 1, 1, 1, 1, 1], [1, 1, 1, 1, 1, 1, 1, 1, 1, 1], [1, 1, 1, 1, 1, 1, 1, 1, 1, 1], [1, 1, 1, 1, 1, 1, 1, 1, 1, 1], [1, 1, 1, 1, 1, 1, 1, 1, 1, 1], [1, 1, 1, 1, 1, 1, 1, 1, 1, 1], [1, 1, 1, 1, 1, 1, 1, 1, 1, 1], [1, 1, 1, 1, 1, 1, 1, 1, 1, 1], [1, 1, 1, 1, 1, 1, 1, 1, 1, 1]]}\n"
     ]
    }
   ],
   "source": [
    "x = next(iter(dataset3))\n",
    "print(x.keys(), len(x['input_ids']), len(x['attention_mask']))\n",
    "print(x)"
   ]
  },
  {
   "cell_type": "code",
   "execution_count": 71,
   "metadata": {},
   "outputs": [
    {
     "ename": "ModuleNotFoundError",
     "evalue": "No module named 'dataloaders'",
     "output_type": "error",
     "traceback": [
      "\u001b[0;31m---------------------------------------------------------------------------\u001b[0m",
      "\u001b[0;31mModuleNotFoundError\u001b[0m                       Traceback (most recent call last)",
      "Cell \u001b[0;32mIn[71], line 1\u001b[0m\n\u001b[0;32m----> 1\u001b[0m \u001b[39mfrom\u001b[39;00m \u001b[39mdataloaders\u001b[39;00m \u001b[39mimport\u001b[39;00m BertDataModule\n\u001b[1;32m      2\u001b[0m \u001b[39m#from datasets import load_dataset\u001b[39;00m\n\u001b[1;32m      3\u001b[0m \u001b[39m#from transformers import DataCollatorForLanguageModeling\u001b[39;00m\n\u001b[1;32m      4\u001b[0m \u001b[39m#\u001b[39;00m\n\u001b[0;32m   (...)\u001b[0m\n\u001b[1;32m     60\u001b[0m \u001b[39m#        return {'input_ids': [examples['input_ids']],\u001b[39;00m\n\u001b[1;32m     61\u001b[0m \u001b[39m#                'attention_mask': [examples['attention_mask']]}\u001b[39;00m\n",
      "\u001b[0;31mModuleNotFoundError\u001b[0m: No module named 'dataloaders'"
     ]
    }
   ],
   "source": [
    "from datasets import load_dataset\n",
    "from transformers import DataCollatorForLanguageModeling\n",
    "\n",
    "class BertDataModule(LightningDataModule):\n",
    "    loader_columns = [\n",
    "        \"input_ids\",\n",
    "        \"attention_mask\",\n",
    "        # Labels added in `DataCollatorForLanguageModeling`\n",
    "    ]\n",
    "\n",
    "    def __init__(self, \n",
    "                 source_files: list[str],\n",
    "                 tokenizer_name: str,\n",
    "                 max_seq_length: int = 128,\n",
    "                 train_batch_size: int = 32,\n",
    "                 mlm_probability: float = 0.15,\n",
    "                 **kwargs):\n",
    "        super().__init__()\n",
    "\n",
    "        self.source_files = source_files\n",
    "        self.max_seq_length = max_seq_length\n",
    "        self.train_batch_size = train_batch_size\n",
    "        self.tokenizer = AutoTokenizer.from_pretrained(tokenizer_name, use_fast=True)\n",
    "        self.mlm_probability = mlm_probability\n",
    "\n",
    "    def prepare_data(self):\n",
    "        pass\n",
    "\n",
    "    def setup(self, stage: str) -> None:\n",
    "        dataset = load_dataset('text', data_files=self.source_files, sample_by='document', \n",
    "                               split='train', streaming=True)\n",
    "        \n",
    "        self.train_dataset = (dataset.map(self.tokenize, batched=True, remove_columns=['text'], batch_size=1))\n",
    "                              #       .map(self.batch_examples, batched=True, batch_size=10))\n",
    "\n",
    "    def train_dataloader(self):\n",
    "        return DataLoader(self.train_dataset, \n",
    "                          collate_fn=DataCollatorForLanguageModeling(self.tokenizer,\n",
    "                                                                     mlm=True,\n",
    "                                                                     mlm_probability=self.mlm_probability,),\n",
    "                          batch_size=self.train_batch_size,)\n",
    "    \n",
    "    def tokenize(self, examples):\n",
    "        input_ids = []\n",
    "        attention_masks = []\n",
    "        for example in examples['text']:\n",
    "            tokens = tokenizer(example,\n",
    "                               add_special_tokens=True,\n",
    "                               padding='max_length',\n",
    "                               truncation=True,\n",
    "                               max_length=self.max_seq_length,\n",
    "                               return_token_type_ids=False,\n",
    "                               return_overflowing_tokens=True,)\n",
    "            input_ids += tokens['input_ids']\n",
    "            attention_masks += tokens['attention_mask']\n",
    "        return {'input_ids': input_ids, 'attention_mask': attention_masks}\n",
    "\n",
    "    def batch_examples(self, examples):\n",
    "        return {'input_ids': [examples['input_ids']],\n",
    "                'attention_mask': [examples['attention_mask']]}"
   ]
  },
  {
   "cell_type": "code",
   "execution_count": 68,
   "metadata": {},
   "outputs": [
    {
     "name": "stderr",
     "output_type": "stream",
     "text": [
      "Resolving data files: 100%|██████████| 28602/28602 [00:05<00:00, 5353.00it/s]\n"
     ]
    }
   ],
   "source": [
    "files = [\n",
    "'/home/bjlkeng/devel/cramming/data/data/pg19_train/*',\n",
    "#'/home/bjlkeng/devel/cramming/data/data/wikipedia/flat/*',\n",
    "#'/home/bjlkeng/devel/cramming/data/data/books3/books3/the-eye.eu/public/Books/Bibliotik/**',\n",
    "]\n",
    "\n",
    "dm = BertDataModule(source_files=files, tokenizer_name='bert-base-uncased', max_seq_length=128)\n",
    "dm.setup('fit')\n"
   ]
  },
  {
   "cell_type": "code",
   "execution_count": 43,
   "metadata": {},
   "outputs": [
    {
     "name": "stderr",
     "output_type": "stream",
     "text": [
      "You're using a BertTokenizerFast tokenizer. Please note that with a fast tokenizer, using the `__call__` method is faster than using a method to encode the text followed by a call to the `pad` method to get a padded encoding.\n"
     ]
    }
   ],
   "source": [
    "dataloader = dm.train_dataloader()\n",
    "d = next(iter(dataloader))"
   ]
  },
  {
   "cell_type": "code",
   "execution_count": 59,
   "metadata": {},
   "outputs": [
    {
     "name": "stdout",
     "output_type": "stream",
     "text": [
      "torch.Size([32, 20])\n"
     ]
    },
    {
     "data": {
      "text/plain": [
       "tensor([[1, 1, 1, 1, 1, 1, 1, 1, 1, 1, 1, 1, 1, 1, 1, 1, 1, 1, 1, 1],\n",
       "        [1, 1, 1, 1, 1, 1, 1, 1, 1, 1, 1, 1, 1, 1, 1, 1, 1, 1, 1, 1],\n",
       "        [1, 1, 1, 1, 1, 1, 1, 1, 1, 1, 1, 1, 1, 1, 1, 1, 1, 1, 1, 1],\n",
       "        [1, 1, 1, 1, 1, 1, 1, 1, 1, 1, 1, 1, 1, 1, 1, 1, 1, 1, 1, 1],\n",
       "        [1, 1, 1, 1, 1, 1, 1, 1, 1, 1, 1, 1, 1, 1, 1, 1, 1, 1, 1, 1]])"
      ]
     },
     "execution_count": 59,
     "metadata": {},
     "output_type": "execute_result"
    }
   ],
   "source": [
    "print(d['attention_mask'].shape)\n",
    "d['attention_mask'][:5, :]"
   ]
  },
  {
   "cell_type": "code",
   "execution_count": 60,
   "metadata": {},
   "outputs": [
    {
     "name": "stdout",
     "output_type": "stream",
     "text": [
      "torch.Size([32, 20])\n"
     ]
    },
    {
     "data": {
      "text/plain": [
       "tensor([[  101,  1996,  2214,  9025,  1997,   103,  2332,  2508,  2544,  1997,\n",
       "           103,   103,  1996,  2034,  2338,  1997,  9952,  1024,  2170,   102],\n",
       "        [  101, 11046,   103,   103,  1015,   103,  1996,  2927,  2643,  2580,\n",
       "          1996,  6014,  1998,  1996,   103,  1012,  1015,  1024,  1016,   102],\n",
       "        [  101,  1998,  1996,  3011,  2001,  2302,  2433,  1010,  1998,   103,\n",
       "          1025,  1998,  4768,  2001,  2588,  1996,  2227,  1997,  1996,   102],\n",
       "        [  101,  2784,  1012,  1998,  1996,  4382,  1997,  2643,  2333,  2588,\n",
       "           103,  2227,  1997,  1996,   103,  1012,  1015,  1024,  1017,   102],\n",
       "        [  101,  1998,  2643,  2056,  1010,  2292,  2045,  2022,  2422,  1024,\n",
       "           103,  2045,  2001,  2422,  1012,  1839,  1024,   103,  1998,   102]])"
      ]
     },
     "execution_count": 60,
     "metadata": {},
     "output_type": "execute_result"
    }
   ],
   "source": [
    "print(d['input_ids'].shape)\n",
    "d['input_ids'][:5, :]"
   ]
  },
  {
   "cell_type": "code",
   "execution_count": 61,
   "metadata": {},
   "outputs": [
    {
     "name": "stdout",
     "output_type": "stream",
     "text": [
      "torch.Size([32, 20])\n"
     ]
    },
    {
     "data": {
      "text/plain": [
       "tensor([[ -100,  -100,  -100,  -100,  -100,  1996,  -100,  -100,  -100,  -100,\n",
       "          1996,  6331,  -100,  -100,  -100,  -100,  -100,  -100,  -100,  -100],\n",
       "        [ -100,  -100,  1015,  1024,  -100,  1999,  -100,  -100,  -100,  -100,\n",
       "          -100,  -100,  -100,  -100,  3011,  -100,  -100,  -100,  -100,  -100],\n",
       "        [ -100,  -100,  -100,  -100,  -100,  -100,  -100,  -100,  -100, 11675,\n",
       "          -100,  -100,  -100,  -100,  -100,  -100,  -100,  -100,  -100,  -100],\n",
       "        [ -100,  -100,  -100,  -100,  -100,  -100,  -100,  -100,  -100,  -100,\n",
       "          1996,  -100,  -100,  -100,  5380,  -100,  -100,  -100,  -100,  -100],\n",
       "        [ -100,  -100,  -100,  -100,  -100,  -100,  -100,  -100,  -100,  -100,\n",
       "          1998,  -100,  -100,  -100,  1012,  1015,  -100,  1018,  -100,  -100]])"
      ]
     },
     "execution_count": 61,
     "metadata": {},
     "output_type": "execute_result"
    }
   ],
   "source": [
    "print(d['labels'].shape)\n",
    "d['labels'][:5, :]"
   ]
  },
  {
   "cell_type": "code",
   "execution_count": 70,
   "metadata": {},
   "outputs": [
    {
     "name": "stdout",
     "output_type": "stream",
     "text": [
      "99999 batches in 162.42 seconds (615.69 batches/s)\n"
     ]
    }
   ],
   "source": [
    "N = 10000 - 1\n",
    "import time\n",
    "start = time.time()\n",
    "for i, d in enumerate(dataloader):\n",
    "    if i >= N:\n",
    "        break\n",
    "end = time.time()\n",
    "print(f'{N} batches in {end-start:.2f} seconds ({N/(end-start):.2f} batches/s)')"
   ]
  },
  {
   "cell_type": "code",
   "execution_count": null,
   "metadata": {},
   "outputs": [],
   "source": []
  }
 ],
 "metadata": {
  "kernelspec": {
   "display_name": "Python 3",
   "language": "python",
   "name": "python3"
  },
  "language_info": {
   "codemirror_mode": {
    "name": "ipython",
    "version": 3
   },
   "file_extension": ".py",
   "mimetype": "text/x-python",
   "name": "python",
   "nbconvert_exporter": "python",
   "pygments_lexer": "ipython3",
   "version": "3.10.9"
  },
  "orig_nbformat": 4,
  "vscode": {
   "interpreter": {
    "hash": "35b020ec3df0c18b68bf7b4552e70845f81858dcbaf541b576d2fc743ffe38c4"
   }
  }
 },
 "nbformat": 4,
 "nbformat_minor": 2
}
